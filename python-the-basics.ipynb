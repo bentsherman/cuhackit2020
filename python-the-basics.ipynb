{
  "nbformat": 4,
  "nbformat_minor": 0,
  "metadata": {
    "hide_input": false,
    "kernelspec": {
      "display_name": "Python 3",
      "language": "python",
      "name": "python3"
    },
    "language_info": {
      "codemirror_mode": {
        "name": "ipython",
        "version": 3
      },
      "file_extension": ".py",
      "mimetype": "text/x-python",
      "name": "python",
      "nbconvert_exporter": "python",
      "pygments_lexer": "ipython3",
      "version": "3.7.0"
    },
    "toc": {
      "base_numbering": 1,
      "nav_menu": {},
      "number_sections": true,
      "sideBar": true,
      "skip_h1_title": false,
      "title_cell": "Table of Contents",
      "title_sidebar": "Contents",
      "toc_cell": false,
      "toc_position": {
        "height": "677px",
        "left": "0px",
        "right": "1111px",
        "top": "43px",
        "width": "340px"
      },
      "toc_section_display": "block",
      "toc_window_display": true
    },
    "varInspector": {
      "cols": {
        "lenName": 16,
        "lenType": 16,
        "lenVar": 40
      },
      "kernels_config": {
        "python": {
          "delete_cmd_postfix": "",
          "delete_cmd_prefix": "del ",
          "library": "var_list.py",
          "varRefreshCmd": "print(var_dic_list())"
        },
        "r": {
          "delete_cmd_postfix": ") ",
          "delete_cmd_prefix": "rm(",
          "library": "var_list.r",
          "varRefreshCmd": "cat(var_dic_list()) "
        }
      },
      "types_to_exclude": [
        "module",
        "function",
        "builtin_function_or_method",
        "instance",
        "_Feature"
      ],
      "window_display": false
    },
    "colab": {
      "name": "Python - The Basics",
      "provenance": [],
      "collapsed_sections": [],
      "include_colab_link": true
    }
  },
  "cells": [
    {
      "cell_type": "markdown",
      "metadata": {
        "id": "view-in-github",
        "colab_type": "text"
      },
      "source": [
        "<a href=\"https://colab.research.google.com/github/bentsherman/cuhackit2020/blob/master/python-the-basics.ipynb\" target=\"_parent\"><img src=\"https://colab.research.google.com/assets/colab-badge.svg\" alt=\"Open In Colab\"/></a>"
      ]
    },
    {
      "cell_type": "markdown",
      "metadata": {
        "colab_type": "text",
        "id": "Ouy3z0OEJ4hQ"
      },
      "source": [
        "# Intro to Python"
      ]
    },
    {
      "cell_type": "markdown",
      "metadata": {
        "colab_type": "text",
        "id": "dCGaVQkOJ4IH"
      },
      "source": [
        "Author: Ethan Bensman\n",
        "\n",
        "Contact: ebensma@clemson.edu"
      ]
    },
    {
      "cell_type": "markdown",
      "metadata": {
        "id": "zu0DRihc5kQJ",
        "colab_type": "text"
      },
      "source": [
        "### Variables"
      ]
    },
    {
      "cell_type": "markdown",
      "metadata": {
        "id": "umAYNdbE5kQJ",
        "colab_type": "text"
      },
      "source": [
        "In Python, declaring variables __doesn't require__ you to name a type. You can just set a variable name equal to a value. There also isn't a `char` type in python, just `string`."
      ]
    },
    {
      "cell_type": "code",
      "metadata": {
        "ExecuteTime": {
          "end_time": "2017-10-04T18:38:12.552928Z",
          "start_time": "2017-10-04T18:38:12.543725Z"
        },
        "id": "wzW_Dd1m5kQL",
        "colab_type": "code",
        "outputId": "4b0ec0f9-b67a-41fe-a61a-c032beef828a",
        "colab": {
          "base_uri": "https://localhost:8080/",
          "height": 73
        }
      },
      "source": [
        "w = 5        \n",
        "x = 3        \n",
        "y = \"Hello\"  \n",
        "z = 6.14\n",
        "\n",
        "print(x)\n",
        "print(y)\n",
        "print(z)"
      ],
      "execution_count": 0,
      "outputs": [
        {
          "output_type": "stream",
          "text": [
            "3\n",
            "Hello\n",
            "6.14\n"
          ],
          "name": "stdout"
        }
      ]
    },
    {
      "cell_type": "markdown",
      "metadata": {
        "id": "g_X14XrS5kQO",
        "colab_type": "text"
      },
      "source": [
        "### Math\n",
        "Numeric operations are the sane as they are in most other languages."
      ]
    },
    {
      "cell_type": "code",
      "metadata": {
        "ExecuteTime": {
          "end_time": "2018-10-09T01:38:17.443096Z",
          "start_time": "2018-10-09T01:38:17.439036Z"
        },
        "id": "nCi9V3sN5kQP",
        "colab_type": "code",
        "outputId": "f9cf48de-d3e0-4bfe-c172-91db73b574ce",
        "colab": {
          "base_uri": "https://localhost:8080/",
          "height": 111
        }
      },
      "source": [
        "mySum = x + z # X + Z BABY LETS GET IT\n",
        "myDifference = z - x\n",
        "myProduct = z * x\n",
        "myQuotient = x / w\n",
        "myRemainder = w% x\n",
        "\n",
        "print(mySum)\n",
        "print(myDifference)\n",
        "print(myProduct)\n",
        "print(myQuotient)\n",
        "print(myRemainder)"
      ],
      "execution_count": 0,
      "outputs": [
        {
          "output_type": "stream",
          "text": [
            "9.14\n",
            "3.1399999999999997\n",
            "18.419999999999998\n",
            "0.6\n",
            "2\n"
          ],
          "name": "stdout"
        }
      ]
    },
    {
      "cell_type": "markdown",
      "metadata": {
        "id": "Sz_g68yQ-wzM",
        "colab_type": "text"
      },
      "source": [
        "### Lists\n",
        "\n",
        "Lists can be created to contain any number of any type element:"
      ]
    },
    {
      "cell_type": "code",
      "metadata": {
        "id": "6hYkQLTP-72i",
        "colab_type": "code",
        "outputId": "2b195a4c-ef2a-4b78-833e-6c589717e4c4",
        "colab": {
          "base_uri": "https://localhost:8080/",
          "height": 36
        }
      },
      "source": [
        "my_list = [4,5,\"Howdy\",9, 17.18]\n",
        "print(my_list)"
      ],
      "execution_count": 0,
      "outputs": [
        {
          "output_type": "stream",
          "text": [
            "[4, 5, 'Howdy', 9, 17.18]\n"
          ],
          "name": "stdout"
        }
      ]
    },
    {
      "cell_type": "markdown",
      "metadata": {
        "id": "H6Iep40x_GH7",
        "colab_type": "text"
      },
      "source": [
        "They can also be changed after creation by both adding and deleting"
      ]
    },
    {
      "cell_type": "code",
      "metadata": {
        "id": "nVOEqQx3_Nm4",
        "colab_type": "code",
        "outputId": "44ab16f5-1ba3-4faa-af24-7e4317b4b1d7",
        "colab": {
          "base_uri": "https://localhost:8080/",
          "height": 91
        }
      },
      "source": [
        "my_list.append(\"Partner\")   #adds to end of list\n",
        "print(my_list)\n",
        "my_list.insert(0,\"Hey,\")    #the first argument to \"insert\" is the position to insert at, and the second is the item to insert\n",
        "print(my_list)\n",
        "del my_list[0]              #delete the element at index 0\n",
        "print(my_list)\n",
        "\n",
        "new_list = my_list + [\"I'm\",\"adding\",\"this\"]   #addition can be done with the \"+\" operator\n",
        "print(new_list)"
      ],
      "execution_count": 0,
      "outputs": [
        {
          "output_type": "stream",
          "text": [
            "[4, 5, 'Howdy', 9, 'Partner']\n",
            "['Hey,', 4, 5, 'Howdy', 9, 'Partner']\n",
            "[4, 5, 'Howdy', 9, 'Partner']\n",
            "[4, 5, 'Howdy', 9, 'Partner', \"I'm\", 'adding', 'this']\n"
          ],
          "name": "stdout"
        }
      ]
    },
    {
      "cell_type": "markdown",
      "metadata": {
        "id": "n--1RWPg_we3",
        "colab_type": "text"
      },
      "source": [
        "To check what's at a certain position in a list, indexing similar to other languages can be used"
      ]
    },
    {
      "cell_type": "code",
      "metadata": {
        "id": "vc0MjmCd_6TD",
        "colab_type": "code",
        "outputId": "21222d99-a321-433c-a577-f35aab73f3e5",
        "colab": {
          "base_uri": "https://localhost:8080/",
          "height": 54
        }
      },
      "source": [
        "print(my_list)\n",
        "element = my_list[2]\n",
        "print(element)"
      ],
      "execution_count": 0,
      "outputs": [
        {
          "output_type": "stream",
          "text": [
            "[4, 5, 'Howdy', 9, 17.18]\n",
            "Howdy\n"
          ],
          "name": "stdout"
        }
      ]
    },
    {
      "cell_type": "markdown",
      "metadata": {
        "id": "m2OKJoh4ANOy",
        "colab_type": "text"
      },
      "source": [
        "You can also use indexing to get a sequence of elements from a list"
      ]
    },
    {
      "cell_type": "code",
      "metadata": {
        "id": "VNG6xdZOEwJA",
        "colab_type": "code",
        "outputId": "94ff31ea-da94-47d9-f7db-343cfb345060",
        "colab": {
          "base_uri": "https://localhost:8080/",
          "height": 92
        }
      },
      "source": [
        "elements1 = my_list[1:3]\n",
        "elements2 = my_list[1:-2]\n",
        "elements3 = my_list[1:]\n",
        "elements4 = my_list[:-1]\n",
        "print(elements1)\n",
        "print(elements2)\n",
        "print(elements3)\n",
        "print(elements4)"
      ],
      "execution_count": 0,
      "outputs": [
        {
          "output_type": "stream",
          "text": [
            "[5, 'Howdy']\n",
            "[5, 'Howdy']\n",
            "[5, 'Howdy', 9, 17.18]\n",
            "[4, 5, 'Howdy', 9]\n"
          ],
          "name": "stdout"
        }
      ]
    },
    {
      "cell_type": "markdown",
      "metadata": {
        "id": "F6bIeVr8Ggz9",
        "colab_type": "text"
      },
      "source": [
        "To get the length of a list, just use the `len()` method"
      ]
    },
    {
      "cell_type": "code",
      "metadata": {
        "id": "5yDnZSotFyVi",
        "colab_type": "code",
        "outputId": "ff2b108a-98f4-4dcc-afdd-1b731eee00b1",
        "colab": {
          "base_uri": "https://localhost:8080/",
          "height": 35
        }
      },
      "source": [
        "my_length = len(elements4)\n",
        "print(my_length)"
      ],
      "execution_count": 0,
      "outputs": [
        {
          "output_type": "stream",
          "text": [
            "4\n"
          ],
          "name": "stdout"
        }
      ]
    },
    {
      "cell_type": "markdown",
      "metadata": {
        "id": "jNZDCwiJU5LR",
        "colab_type": "text"
      },
      "source": [
        "Lists of lists are also possible"
      ]
    },
    {
      "cell_type": "code",
      "metadata": {
        "id": "hi4yGyz3VBpJ",
        "colab_type": "code",
        "outputId": "5cd72a71-ae7b-4463-826f-7925abcb0448",
        "colab": {
          "base_uri": "https://localhost:8080/",
          "height": 111
        }
      },
      "source": [
        "double_list = [[\"hi\",\"there\"],[1,2,3],[\"Jake Paul\"]]\n",
        "\n",
        "print(double_list)\n",
        "print(double_list[2])\n",
        "print(double_list[2][0])\n",
        "\n",
        "double_list[1].append(4)\n",
        "\n",
        "print(double_list[1])\n",
        "print(double_list)"
      ],
      "execution_count": 0,
      "outputs": [
        {
          "output_type": "stream",
          "text": [
            "[['hi', 'there'], [1, 2, 3], ['Jake Paul']]\n",
            "['Jake Paul']\n",
            "Jake Paul\n",
            "[1, 2, 3, 4]\n",
            "[['hi', 'there'], [1, 2, 3, 4], ['Jake Paul']]\n"
          ],
          "name": "stdout"
        }
      ]
    },
    {
      "cell_type": "markdown",
      "metadata": {
        "id": "dZ526p9m8g9l",
        "colab_type": "text"
      },
      "source": [
        "### Strings"
      ]
    },
    {
      "cell_type": "markdown",
      "metadata": {
        "id": "T02xd6fu5kQk",
        "colab_type": "text"
      },
      "source": [
        "To initialize a string variable, you can use either double or single quotes."
      ]
    },
    {
      "cell_type": "code",
      "metadata": {
        "ExecuteTime": {
          "end_time": "2017-10-04T18:38:13.972732Z",
          "start_time": "2017-10-04T18:38:13.967236Z"
        },
        "id": "dBUQcacY5kQR",
        "colab_type": "code",
        "outputId": "d96ff6ca-e2bd-49e2-c60d-8e0a44a64730",
        "colab": {
          "base_uri": "https://localhost:8080/",
          "height": 54
        }
      },
      "source": [
        "word = \"Hello\"\n",
        "otherWord = 'World!'      \n",
        "\n",
        "print(word)\n",
        "print(otherWord)"
      ],
      "execution_count": 0,
      "outputs": [
        {
          "output_type": "stream",
          "text": [
            "Hello\n",
            "World!\n"
          ],
          "name": "stdout"
        }
      ]
    },
    {
      "cell_type": "markdown",
      "metadata": {
        "id": "C5JVeykG-a9c",
        "colab_type": "text"
      },
      "source": [
        "String operations are also very intuitive. To combine strings, just use the \"+\" operator."
      ]
    },
    {
      "cell_type": "code",
      "metadata": {
        "id": "IkFgV6Ry-SFv",
        "colab_type": "code",
        "outputId": "3ba1221d-866f-4793-a61d-76f9dab81f02",
        "colab": {
          "base_uri": "https://localhost:8080/",
          "height": 36
        }
      },
      "source": [
        "sum_string = word + \" \" + otherWord \n",
        "print(sum_string)"
      ],
      "execution_count": 0,
      "outputs": [
        {
          "output_type": "stream",
          "text": [
            "Hello World!\n"
          ],
          "name": "stdout"
        }
      ]
    },
    {
      "cell_type": "markdown",
      "metadata": {
        "id": "6f4vk80E5kQo",
        "colab_type": "text"
      },
      "source": [
        "You can think of strings as a sequence of characters (or a __list__ of characters). Just like lists, indices and bracket notations can be used to access specific ranges of characters. You can also find the length of the string with `len()`."
      ]
    },
    {
      "cell_type": "code",
      "metadata": {
        "ExecuteTime": {
          "end_time": "2018-10-09T00:16:32.814921Z",
          "start_time": "2018-10-09T00:16:32.811324Z"
        },
        "id": "nhxnpGPU5kQp",
        "colab_type": "code",
        "outputId": "91681ba3-db55-46ef-cd48-8630a164401b",
        "colab": {
          "base_uri": "https://localhost:8080/",
          "height": 73
        }
      },
      "source": [
        "name_14 = sum_string[1:4] # [start, end), end is exclusive; Python starts with 0 NOT 1\n",
        "print(name_14)\n",
        "last_letter = sum_string[-1] # -1 means the last element\n",
        "print(last_letter)\n",
        "my_length = len(sum_string)\n",
        "print(my_length)"
      ],
      "execution_count": 0,
      "outputs": [
        {
          "output_type": "stream",
          "text": [
            "ell\n",
            "!\n",
            "12\n"
          ],
          "name": "stdout"
        }
      ]
    },
    {
      "cell_type": "markdown",
      "metadata": {
        "id": "gGF7EIQQIH2C",
        "colab_type": "text"
      },
      "source": [
        "### Booleans\n",
        "Just your average True/False variables. Make sure to use a capital T or F though."
      ]
    },
    {
      "cell_type": "code",
      "metadata": {
        "id": "cgOHuxpeIQF5",
        "colab_type": "code",
        "outputId": "46d984bc-eb41-4d97-ea63-d61a3e1eb0c3",
        "colab": {
          "base_uri": "https://localhost:8080/",
          "height": 35
        }
      },
      "source": [
        "x = True\n",
        "print(x)"
      ],
      "execution_count": 0,
      "outputs": [
        {
          "output_type": "stream",
          "text": [
            "True\n"
          ],
          "name": "stdout"
        }
      ]
    },
    {
      "cell_type": "markdown",
      "metadata": {
        "colab_type": "text",
        "id": "adZgQg9hJwKV"
      },
      "source": [
        "## More Data Type Stuff\n",
        "\n",
        "We've talked about lists, strings, floats, and ints in Python, which are the main default data types. What if you want to check what type a variable is? Or you want to change its type? Just use the following methods"
      ]
    },
    {
      "cell_type": "code",
      "metadata": {
        "id": "R03i9qJNK8nn",
        "colab_type": "code",
        "outputId": "a27fdc0a-724a-4d10-83c2-10fa2c919d1b",
        "colab": {
          "base_uri": "https://localhost:8080/",
          "height": 72
        }
      },
      "source": [
        "x = 36\n",
        "y = \"45\"\n",
        "z = 3.14\n",
        "\n",
        "print(type(x))\n",
        "print(type(y))\n",
        "print(type(z))\n"
      ],
      "execution_count": 0,
      "outputs": [
        {
          "output_type": "stream",
          "text": [
            "<class 'int'>\n",
            "<class 'str'>\n",
            "<class 'float'>\n"
          ],
          "name": "stdout"
        }
      ]
    },
    {
      "cell_type": "code",
      "metadata": {
        "id": "WZA4z9LVLdOg",
        "colab_type": "code",
        "outputId": "d5fdef68-a9af-40dc-95b9-50249210eba2",
        "colab": {
          "base_uri": "https://localhost:8080/",
          "height": 128
        }
      },
      "source": [
        "a = str(x)\n",
        "print(type(a))\n",
        "print(a)\n",
        "\n",
        "b = int(y)\n",
        "print(type(b))\n",
        "print(b)\n",
        "\n",
        "c = int(z)        # Casting a string to an int -- Only works on number values\n",
        "print(type(c))\n",
        "print(c)"
      ],
      "execution_count": 0,
      "outputs": [
        {
          "output_type": "stream",
          "text": [
            "<class 'str'>\n",
            "36\n",
            "<class 'int'>\n",
            "45\n",
            "<class 'int'>\n",
            "3\n"
          ],
          "name": "stdout"
        }
      ]
    },
    {
      "cell_type": "markdown",
      "metadata": {
        "id": "JB-hiuOl5kSA",
        "colab_type": "text"
      },
      "source": [
        "### Dictionaries: key-value pairs"
      ]
    },
    {
      "cell_type": "markdown",
      "metadata": {
        "id": "v4GE3vBX5kSA",
        "colab_type": "text"
      },
      "source": [
        "Initialize a dict by curly brackets `{}`"
      ]
    },
    {
      "cell_type": "code",
      "metadata": {
        "ExecuteTime": {
          "end_time": "2018-10-09T00:12:58.821876Z",
          "start_time": "2018-10-09T00:12:58.817697Z"
        },
        "id": "1o1tbMwQ5kSA",
        "colab_type": "code",
        "outputId": "9eb9c293-e5f3-4538-b6c2-b2cf8345b2b7",
        "colab": {
          "base_uri": "https://localhost:8080/",
          "height": 54
        }
      },
      "source": [
        "d = {} # empty dictionary\n",
        "d[1] = \"Hello\"   # add a key-value by using bracket (key). You can put anything in key/value.\n",
        "d[\"Hello\"] = \"World\"\n",
        "\n",
        "print(d)\n",
        "print(d[\"Hello\"])\n"
      ],
      "execution_count": 0,
      "outputs": [
        {
          "output_type": "stream",
          "text": [
            "{1: 'Hello', 'Hello': 'World'}\n",
            "World\n"
          ],
          "name": "stdout"
        }
      ]
    },
    {
      "cell_type": "markdown",
      "metadata": {
        "id": "3mo6UzCu5kSH",
        "colab_type": "text"
      },
      "source": [
        "---"
      ]
    },
    {
      "cell_type": "markdown",
      "metadata": {
        "id": "sriJPRCH5kSH",
        "colab_type": "text"
      },
      "source": [
        "## Control Logic\n",
        "\n",
        "In the following examples, we show examples of comparison, `if-else` loop, `for` loop, and `while` loop."
      ]
    },
    {
      "cell_type": "markdown",
      "metadata": {
        "id": "TUWAa81a5kSH",
        "colab_type": "text"
      },
      "source": [
        "#### Comparison"
      ]
    },
    {
      "cell_type": "markdown",
      "metadata": {
        "id": "6NRH3Tno5kSI",
        "colab_type": "text"
      },
      "source": [
        "Python syntax for comparison is the same as our hand-written convention: \n",
        "\n",
        "1. Larger (or equal): `>` (`>=`)\n",
        "2. Smaller (or equal): `<` (`<=`)\n",
        "3. Equal to: `==` (__Note here that there are double equal signs__)\n",
        "4. Not equal to: `!=`"
      ]
    },
    {
      "cell_type": "code",
      "metadata": {
        "ExecuteTime": {
          "end_time": "2018-10-09T00:16:20.683160Z",
          "start_time": "2018-10-09T00:16:20.676171Z"
        },
        "id": "wNsHujR85kSI",
        "colab_type": "code",
        "outputId": "1430b0ed-4a21-4c8d-9269-f82c9b075af3",
        "colab": {
          "base_uri": "https://localhost:8080/",
          "height": 35
        }
      },
      "source": [
        "print(3 == 5)"
      ],
      "execution_count": 0,
      "outputs": [
        {
          "output_type": "stream",
          "text": [
            "False\n"
          ],
          "name": "stdout"
        }
      ]
    },
    {
      "cell_type": "code",
      "metadata": {
        "ExecuteTime": {
          "end_time": "2018-10-09T00:16:21.107023Z",
          "start_time": "2018-10-09T00:16:21.102607Z"
        },
        "id": "VTHMDw6O5kSK",
        "colab_type": "code",
        "outputId": "ce8484c2-544e-4a66-b584-fc1a03976863",
        "colab": {
          "base_uri": "https://localhost:8080/",
          "height": 35
        }
      },
      "source": [
        "print(72 >= 2)"
      ],
      "execution_count": 0,
      "outputs": [
        {
          "output_type": "stream",
          "text": [
            "True\n"
          ],
          "name": "stdout"
        }
      ]
    },
    {
      "cell_type": "code",
      "metadata": {
        "ExecuteTime": {
          "end_time": "2018-10-09T00:16:49.169393Z",
          "start_time": "2018-10-09T00:16:49.164386Z"
        },
        "id": "F5kuEEkV5kSL",
        "colab_type": "code",
        "outputId": "cdd96011-82f0-4e5c-ca5a-652ecce281b5",
        "colab": {
          "base_uri": "https://localhost:8080/",
          "height": 35
        }
      },
      "source": [
        "my_name = \"Ethan\"\n",
        "print(my_name==\"Natalie\")"
      ],
      "execution_count": 0,
      "outputs": [
        {
          "output_type": "stream",
          "text": [
            "False\n"
          ],
          "name": "stdout"
        }
      ]
    },
    {
      "cell_type": "markdown",
      "metadata": {
        "id": "tLKNVtOH5kSZ",
        "colab_type": "text"
      },
      "source": [
        "#### If-Else\n",
        "\n",
        "Things to note - Python is a little different than C, C++, and Java here. Parentheses aren't required for `if` statements, and instead of using curly braces to define an `if` block, it uses a colon, and indents all blocks that are within the if statement"
      ]
    },
    {
      "cell_type": "code",
      "metadata": {
        "ExecuteTime": {
          "end_time": "2018-10-09T01:38:46.027739Z",
          "start_time": "2018-10-09T01:38:46.023274Z"
        },
        "id": "DIIPvH1l5kSZ",
        "colab_type": "code",
        "colab": {}
      },
      "source": [
        "x = 6"
      ],
      "execution_count": 0,
      "outputs": []
    },
    {
      "cell_type": "code",
      "metadata": {
        "ExecuteTime": {
          "end_time": "2018-10-09T01:38:47.709640Z",
          "start_time": "2018-10-09T01:38:47.704307Z"
        },
        "id": "Uz9sJI865kSc",
        "colab_type": "code",
        "outputId": "5f766a33-9d22-4c43-9d5e-fcb79afa7dee",
        "colab": {
          "base_uri": "https://localhost:8080/",
          "height": 36
        }
      },
      "source": [
        "if x == 0:  # if (x == 0) {}\n",
        "    print(\"x is 0\")\n",
        "    print(\"cool\")\n",
        "elif x < 0:\n",
        "    print(\"x is less than 0\")\n",
        "else:\n",
        "    print(\"x is above 0 and its value is \" + str(x)) # Cast sum_ into string type."
      ],
      "execution_count": 0,
      "outputs": [
        {
          "output_type": "stream",
          "text": [
            "x is above 0 and its value is 6\n"
          ],
          "name": "stdout"
        }
      ]
    },
    {
      "cell_type": "markdown",
      "metadata": {
        "id": "hJxH3Q275kSe",
        "colab_type": "text"
      },
      "source": [
        "Note that you do not have to use `if-else` or `if-elif-...-else`. You can use `if` without other clauses following that."
      ]
    },
    {
      "cell_type": "code",
      "metadata": {
        "ExecuteTime": {
          "end_time": "2018-10-09T01:38:49.218876Z",
          "start_time": "2018-10-09T01:38:49.214871Z"
        },
        "id": "pS9kxjCc5kSf",
        "colab_type": "code",
        "outputId": "8b2912f7-dc43-4576-cc68-20376560e14b",
        "colab": {
          "base_uri": "https://localhost:8080/",
          "height": 73
        }
      },
      "source": [
        "if x > 5:\n",
        "  print('x is above 5')\n",
        "  print(\"This is inside the if block\")\n",
        "else:\n",
        "  print(\"x is below 5\")\n",
        "print(\"this is outside the if-else block\")"
      ],
      "execution_count": 0,
      "outputs": [
        {
          "output_type": "stream",
          "text": [
            "x is above 5\n",
            "This is inside the if block\n",
            "this is outside the if-else block\n"
          ],
          "name": "stdout"
        }
      ]
    },
    {
      "cell_type": "markdown",
      "metadata": {
        "id": "4P_hOziW5kSh",
        "colab_type": "text"
      },
      "source": [
        "### The \"in\" operator\n",
        "\n",
        "You can compare strings with \"==\", but you can also use \"in\" to check for instances of substrings"
      ]
    },
    {
      "cell_type": "code",
      "metadata": {
        "ExecuteTime": {
          "end_time": "2018-10-09T01:38:50.755605Z",
          "start_time": "2018-10-09T01:38:50.751523Z"
        },
        "id": "iAg6Hqsp5kSi",
        "colab_type": "code",
        "outputId": "f66465ac-5ac2-48cc-d19f-aeb44b0ee92d",
        "colab": {
          "base_uri": "https://localhost:8080/",
          "height": 36
        }
      },
      "source": [
        "store_name = 'Walmart'\n",
        "\n",
        "if store_name == \"Walmart\":\n",
        "  print(\"The store is Walmart\")"
      ],
      "execution_count": 0,
      "outputs": [
        {
          "output_type": "stream",
          "text": [
            "The store is Walmart\n"
          ],
          "name": "stdout"
        }
      ]
    },
    {
      "cell_type": "code",
      "metadata": {
        "ExecuteTime": {
          "end_time": "2018-10-09T01:38:57.568568Z",
          "start_time": "2018-10-09T01:38:57.563726Z"
        },
        "id": "7X71Y0Mo5kSj",
        "colab_type": "code",
        "outputId": "dc3f959c-91e6-4e64-de7a-0d97363899fa",
        "colab": {
          "base_uri": "https://localhost:8080/",
          "height": 36
        }
      },
      "source": [
        "if 'Wal' in store_name:\n",
        "    print(\"The store is Walmart.\")\n",
        "elif 'Wal' not in store_name:           #note: you can also use \"not\" when using \"in\"\n",
        "    print(\"The store is Walmart.\")"
      ],
      "execution_count": 0,
      "outputs": [
        {
          "output_type": "stream",
          "text": [
            "The store is Walmart.\n"
          ],
          "name": "stdout"
        }
      ]
    },
    {
      "cell_type": "markdown",
      "metadata": {
        "id": "fN1ZO5r3Swd4",
        "colab_type": "text"
      },
      "source": [
        "\"in\" can also be used with lists"
      ]
    },
    {
      "cell_type": "code",
      "metadata": {
        "id": "6iL8yPRJSzWh",
        "colab_type": "code",
        "outputId": "d603e746-99cb-40db-def3-f397623e1dc1",
        "colab": {
          "base_uri": "https://localhost:8080/",
          "height": 36
        }
      },
      "source": [
        "my_list = [2,4,5,\"Hi\"]\n",
        "if 4 in my_list:\n",
        "  print(\"4 is in my list\")\n",
        "else:\n",
        "  print(\"4 isn't in my list\")"
      ],
      "execution_count": 0,
      "outputs": [
        {
          "output_type": "stream",
          "text": [
            "4 is in my list\n"
          ],
          "name": "stdout"
        }
      ]
    },
    {
      "cell_type": "markdown",
      "metadata": {
        "id": "2aovHaNL5kSk",
        "colab_type": "text"
      },
      "source": [
        "#### For loop: Iterating thru a sequence"
      ]
    },
    {
      "cell_type": "code",
      "metadata": {
        "ExecuteTime": {
          "end_time": "2018-10-09T01:39:07.309307Z",
          "start_time": "2018-10-09T01:39:07.305696Z"
        },
        "id": "m2O01WVg5kSk",
        "colab_type": "code",
        "outputId": "d569d9c9-2ad1-4b5f-d0d7-a05d35c4df36",
        "colab": {
          "base_uri": "https://localhost:8080/",
          "height": 146
        }
      },
      "source": [
        "for letter in store_name:\n",
        "    print(letter)"
      ],
      "execution_count": 0,
      "outputs": [
        {
          "output_type": "stream",
          "text": [
            "W\n",
            "a\n",
            "l\n",
            "m\n",
            "a\n",
            "r\n",
            "t\n"
          ],
          "name": "stdout"
        }
      ]
    },
    {
      "cell_type": "markdown",
      "metadata": {
        "ExecuteTime": {
          "end_time": "2017-10-04T18:38:51.792543Z",
          "start_time": "2017-10-04T18:38:51.786228Z"
        },
        "id": "MA8DHAmP5kSm",
        "colab_type": "text"
      },
      "source": [
        "`range()` is a function to create interger sequences:"
      ]
    },
    {
      "cell_type": "code",
      "metadata": {
        "ExecuteTime": {
          "end_time": "2018-10-09T01:41:05.935416Z",
          "start_time": "2018-10-09T01:41:05.930030Z"
        },
        "id": "fqvnevuR5kSn",
        "colab_type": "code",
        "outputId": "fc9f57a0-f62b-459d-e783-b443536a3914",
        "colab": {
          "base_uri": "https://localhost:8080/",
          "height": 146
        }
      },
      "source": [
        "for index in range(0,len(store_name)): # length of a sequence\n",
        "    print(\"The letter at index\", index, \"in store_name is:\" , store_name[index])"
      ],
      "execution_count": 0,
      "outputs": [
        {
          "output_type": "stream",
          "text": [
            "The letter at index 0 in store_name is: W\n",
            "The letter at index 1 in store_name is: a\n",
            "The letter at index 2 in store_name is: l\n",
            "The letter at index 3 in store_name is: m\n",
            "The letter at index 4 in store_name is: a\n",
            "The letter at index 5 in store_name is: r\n",
            "The letter at index 6 in store_name is: t\n"
          ],
          "name": "stdout"
        }
      ]
    },
    {
      "cell_type": "markdown",
      "metadata": {
        "id": "70QqO8V15kSo",
        "colab_type": "text"
      },
      "source": [
        "#### While loop: Keep doing until condition no longer holds."
      ]
    },
    {
      "cell_type": "markdown",
      "metadata": {
        "id": "FB3iBXig5kSp",
        "colab_type": "text"
      },
      "source": [
        "Use `for` when you know __the exact number of iterations__; use `while` when you __do not (e.g., checking convergence)__."
      ]
    },
    {
      "cell_type": "code",
      "metadata": {
        "ExecuteTime": {
          "end_time": "2018-10-09T01:41:12.053207Z",
          "start_time": "2018-10-09T01:41:12.049347Z"
        },
        "id": "7meepsJk5kSp",
        "colab_type": "code",
        "colab": {}
      },
      "source": [
        "x = 2"
      ],
      "execution_count": 0,
      "outputs": []
    },
    {
      "cell_type": "code",
      "metadata": {
        "ExecuteTime": {
          "end_time": "2018-10-09T01:41:12.294825Z",
          "start_time": "2018-10-09T01:41:12.290846Z"
        },
        "id": "wKN5RWqJ5kSr",
        "colab_type": "code",
        "outputId": "2c4c3c42-6a1a-4435-9aff-a41ca0350b06",
        "colab": {
          "base_uri": "https://localhost:8080/",
          "height": 167
        }
      },
      "source": [
        "while x < 10:\n",
        "    print(x)\n",
        "    x += 1\n",
        "    #x += x-1"
      ],
      "execution_count": 0,
      "outputs": [
        {
          "output_type": "stream",
          "text": [
            "2\n",
            "3\n",
            "4\n",
            "5\n",
            "6\n",
            "7\n",
            "8\n",
            "9\n"
          ],
          "name": "stdout"
        }
      ]
    },
    {
      "cell_type": "markdown",
      "metadata": {
        "id": "x6yHym3x5kSt",
        "colab_type": "text"
      },
      "source": [
        "#### Notes on `break` and `continue`"
      ]
    },
    {
      "cell_type": "markdown",
      "metadata": {
        "id": "YEmxFs4Z5kSu",
        "colab_type": "text"
      },
      "source": [
        "`break` means get out of the loop immediately. Any code after the `break` will NOT be executed."
      ]
    },
    {
      "cell_type": "code",
      "metadata": {
        "ExecuteTime": {
          "end_time": "2018-10-09T01:41:21.493159Z",
          "start_time": "2018-10-09T01:41:21.489747Z"
        },
        "id": "HO0-uXDz5kSu",
        "colab_type": "code",
        "colab": {}
      },
      "source": [
        "store_name = 'Walmart'"
      ],
      "execution_count": 0,
      "outputs": []
    },
    {
      "cell_type": "code",
      "metadata": {
        "ExecuteTime": {
          "end_time": "2018-10-09T01:41:22.084338Z",
          "start_time": "2018-10-09T01:41:22.076857Z"
        },
        "id": "oXIwSUYf5kSv",
        "colab_type": "code",
        "outputId": "1a9a9961-53ad-4438-f60d-b13c60ed7d25",
        "colab": {
          "base_uri": "https://localhost:8080/",
          "height": 54
        }
      },
      "source": [
        "index = 0\n",
        "while True:\n",
        "    print(store_name[index])\n",
        "    index += 1 # a += b means a = a + b\n",
        "    if store_name[index] == \"a\":\n",
        "        print(\"End at a\")\n",
        "        break # instead of setting flag to False, we can directly break out of the loop\n",
        "        print(\"Hello!\") # This will NOT be run"
      ],
      "execution_count": 0,
      "outputs": [
        {
          "output_type": "stream",
          "text": [
            "W\n",
            "End at a\n"
          ],
          "name": "stdout"
        }
      ]
    },
    {
      "cell_type": "markdown",
      "metadata": {
        "id": "ZkuuYBRw5kSy",
        "colab_type": "text"
      },
      "source": [
        "`continue` means get to the next iteration of loop. It will __break__ the current iteration and __continue__ to the next."
      ]
    },
    {
      "cell_type": "code",
      "metadata": {
        "ExecuteTime": {
          "end_time": "2018-10-09T01:41:23.822603Z",
          "start_time": "2018-10-09T01:41:23.818257Z"
        },
        "id": "4doe7wAO5kSz",
        "colab_type": "code",
        "outputId": "26adf942-a6f9-4170-99d1-b2771a6a1132",
        "colab": {
          "base_uri": "https://localhost:8080/",
          "height": 109
        }
      },
      "source": [
        "for letter in store_name:\n",
        "    if letter == \"a\":\n",
        "        continue # Not printing V\n",
        "    else:\n",
        "        print(letter)"
      ],
      "execution_count": 0,
      "outputs": [
        {
          "output_type": "stream",
          "text": [
            "W\n",
            "l\n",
            "m\n",
            "r\n",
            "t\n"
          ],
          "name": "stdout"
        }
      ]
    },
    {
      "cell_type": "code",
      "metadata": {
        "ExecuteTime": {
          "end_time": "2018-10-09T01:41:24.791324Z",
          "start_time": "2018-10-09T01:41:24.780078Z"
        },
        "id": "pJpWB5O-5kS0",
        "colab_type": "code",
        "outputId": "a907461a-2b96-483a-f442-b1c86f463a36",
        "colab": {
          "base_uri": "https://localhost:8080/",
          "height": 275
        }
      },
      "source": [
        "index = 0\n",
        "while index <= len(store_name)-1:\n",
        "    print(store_name[index])\n",
        "    if store_name[index] == \"a\":\n",
        "        print(\"This is an `a`\")\n",
        "        index += 1 # a += b means a = a + b\n",
        "        continue\n",
        "    print(\"Hello!\")\n",
        "    index += 1 # a += b means a = a + b"
      ],
      "execution_count": 0,
      "outputs": [
        {
          "output_type": "stream",
          "text": [
            "W\n",
            "Hello!\n",
            "a\n",
            "This is an `a`\n",
            "l\n",
            "Hello!\n",
            "m\n",
            "Hello!\n",
            "a\n",
            "This is an `a`\n",
            "r\n",
            "Hello!\n",
            "t\n",
            "Hello!\n"
          ],
          "name": "stdout"
        }
      ]
    },
    {
      "cell_type": "markdown",
      "metadata": {
        "id": "ZBRxmw6fVlEU",
        "colab_type": "text"
      },
      "source": [
        "## Functions\n",
        "\n",
        "Pretty easy in Python too! You don't need to specify a return type, just use \"def\"."
      ]
    },
    {
      "cell_type": "code",
      "metadata": {
        "id": "VDeC7e5MVxjH",
        "colab_type": "code",
        "outputId": "5bc1b517-eee2-4b99-cd97-6e98fbf6acc3",
        "colab": {
          "base_uri": "https://localhost:8080/",
          "height": 36
        }
      },
      "source": [
        "def makeCool(word):\n",
        "  my_string = str(word) + \" is cool\"\n",
        "  return my_string\n",
        "\n",
        "makeCool(\"Ethan\")"
      ],
      "execution_count": 0,
      "outputs": [
        {
          "output_type": "execute_result",
          "data": {
            "text/plain": [
              "'Ethan is cool'"
            ]
          },
          "metadata": {
            "tags": []
          },
          "execution_count": 20
        }
      ]
    },
    {
      "cell_type": "markdown",
      "metadata": {
        "id": "e0-awIWdWI-F",
        "colab_type": "text"
      },
      "source": [
        "You can also make functions return more than one thing at a time!"
      ]
    },
    {
      "cell_type": "code",
      "metadata": {
        "id": "apA2ydQqWXsv",
        "colab_type": "code",
        "outputId": "30593fd1-3298-4a79-f70a-338536c6a748",
        "colab": {
          "base_uri": "https://localhost:8080/",
          "height": 36
        }
      },
      "source": [
        "def splitAtSpace(word):\n",
        "  if \" \" not in word:\n",
        "    return None, \"No space found\"   #None is Python's version of null (aka nothing)\n",
        "  else:\n",
        "    for idx in range(0,len(word)):\n",
        "      if word[idx] == \" \":\n",
        "        splitIndex = idx\n",
        "        break\n",
        "    return word[:splitIndex], word[splitIndex:]\n",
        "  \n",
        "print(splitAtSpace(\"Hello World\"))\n",
        "  "
      ],
      "execution_count": 0,
      "outputs": [
        {
          "output_type": "stream",
          "text": [
            "('Hello', ' World')\n"
          ],
          "name": "stdout"
        }
      ]
    },
    {
      "cell_type": "code",
      "metadata": {
        "id": "FbRnDu18dM5Q",
        "colab_type": "code",
        "colab": {}
      },
      "source": [
        ""
      ],
      "execution_count": 0,
      "outputs": []
    }
  ]
}